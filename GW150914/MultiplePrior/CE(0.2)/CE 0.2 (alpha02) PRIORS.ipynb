{
 "cells": [
  {
   "cell_type": "code",
   "execution_count": 53,
   "id": "d3af614b",
   "metadata": {},
   "outputs": [],
   "source": [
    "import bilby\n",
    "import h5py\n",
    "from h5glance import H5Glance\n",
    "import matplotlib.pyplot as plt\n",
    "import seaborn as sns\n",
    "import numpy as np\n",
    "import pandas as pd\n",
    "import random\n",
    "import math\n",
    "from sklearn.neighbors import KernelDensity\n",
    "from sklearn.datasets import load_digits\n",
    "from sklearn.decomposition import PCA\n",
    "from sklearn.model_selection import GridSearchCV\n",
    "from astropy import units as u\n",
    "from astropy.cosmology import WMAP5\n",
    "\n",
    "%matplotlib inline"
   ]
  },
  {
   "cell_type": "code",
   "execution_count": 54,
   "id": "e7816b62",
   "metadata": {},
   "outputs": [
    {
     "data": {
      "text/plain": [
       "<KeysViewHDF5 ['CE', 'CHE', 'GC', 'NSC', 'SMT']>"
      ]
     },
     "execution_count": 54,
     "metadata": {},
     "output_type": "execute_result"
    }
   ],
   "source": [
    "f=h5py.File('/home/sagi/Downloads/models_reduced.hdf5' , 'r')\n",
    "f.keys()\n"
   ]
  },
  {
   "cell_type": "code",
   "execution_count": 55,
   "id": "81a8385e",
   "metadata": {},
   "outputs": [
    {
     "name": "stdout",
     "output_type": "stream",
     "text": [
      "            mchirp         q    chieff         z         m1         m2  \\\n",
      "4574608  15.079619  0.866933  0.204811  0.431284  18.613366  16.136532   \n",
      "4817603   6.962208  0.778284  0.351693  3.946317   9.079551   7.066470   \n",
      "3547181  16.844822  0.972953  0.534173  1.586921  19.617090  19.086512   \n",
      "555268   15.341755  0.962225  0.557582  0.174426  17.287628  17.966309   \n",
      "\n",
      "             s1x       s1y       s1z       s2x       s2y       s2z    weight  \\\n",
      "4574608  0.00000  0.000000  0.202513  0.000000 -0.000000  0.207462  0.009824   \n",
      "4817603  0.00208  0.002318  0.203924 -0.004333 -0.007047  0.541557  0.047776   \n",
      "3547181  0.00000  0.000000  0.207408  0.000000 -0.000000  0.870022  0.054913   \n",
      "555268  -0.00000 -0.000000  0.204812 -0.000000 -0.000000  0.897025  0.000171   \n",
      "\n",
      "         pdet_midhighlatelow_network  snropt_midhighlatelow_network  \\\n",
      "4574608                        0.021                      13.407297   \n",
      "4817603                        0.000                       1.382382   \n",
      "3547181                        0.000                       5.413787   \n",
      "555268                         0.668                      35.146591   \n",
      "\n",
      "         pdet_midhighlatelow  snropt_midhighlatelow  \n",
      "4574608                0.002               8.541408  \n",
      "4817603                0.000               0.878084  \n",
      "3547181                0.000               3.427529  \n",
      "555268                 0.444              22.370231  \n"
     ]
    }
   ],
   "source": [
    "##prints out the data file with its structure\n",
    "CE_chi02_alpha10 = pd.read_hdf('/home/sagi/Downloads/models_reduced.hdf5', key='/CE/chi02/alpha02/')\n",
    "print(CE_chi02_alpha10[:4])"
   ]
  },
  {
   "cell_type": "code",
   "execution_count": 56,
   "id": "3485b563",
   "metadata": {},
   "outputs": [],
   "source": [
    "\n",
    "##stores all the chirpmass data in an array\n",
    "data=f['/CE/chi02/alpha10/block0_values']\n",
    "# Create the nested array\n",
    "priors = np.array([\n",
    "    np.array(data[:,0].reshape(-1,1)), # chirpmass\n",
    "    np.array(data[:,1].reshape(-1,1)), # q\n",
    "])\n",
    "\n",
    "names=[\"chirp mass prior\",\"q prior\"]\n",
    "chirpmass, q= priors\n",
    "\n"
   ]
  },
  {
   "cell_type": "code",
   "execution_count": 59,
   "id": "7c0cdcd9",
   "metadata": {},
   "outputs": [],
   "source": [
    "\n",
    "kde=[]\n",
    "samples = [[] for _ in range(len(priors))]\n",
    "density= [[] for _ in range(len(priors))]\n",
    "for i in range(len(priors)):\n",
    "    #priors[i]=priors[i].reshape(-1,1)\n",
    "    kde.append(KernelDensity(kernel='gaussian', bandwidth=0.2).fit(priors[i][:1000]))\n",
    "    samples[i]=kde[i].sample(1000)\n",
    "    density[i]=np.exp(kde[i].score_samples(samples[i][:1000]))\n",
    "    samples[i]=samples[i].flatten()\n",
    "    \n"
   ]
  },
  {
   "cell_type": "code",
   "execution_count": 60,
   "id": "78601c8b",
   "metadata": {
    "scrolled": true
   },
   "outputs": [
    {
     "data": {
      "image/png": "[encoded data removed]",
      "text/plain": [
       "<Figure size 1200x500 with 2 Axes>"
      ]
     },
     "metadata": {},
     "output_type": "display_data"
    }
   ],
   "source": [
    "\n",
    "custom_priors = []\n",
    "fig = plt.figure(figsize=(12, 5))\n",
    "\n",
    "for i in range(len(names)):\n",
    "    custom_priors.append (\n",
    "\n",
    "        bilby.prior.Interped(\n",
    "            name=names[i],\n",
    "            xx=samples[i], #plotting chirp mass on the x axis \n",
    "            yy=density[i], \n",
    "           # minimum=0,\n",
    "          #  maximum=100,\n",
    "            #latex_label=\"chirpmass prior\",\n",
    "        ),\n",
    "    )\n",
    "\n",
    "for ii, prior in enumerate(custom_priors):\n",
    "    fig.add_subplot(1, 4, 1 + ii)\n",
    "    plt.hist(prior.sample(100000), bins=100, histtype=\"step\", density=True,label=\"bilby priors\")\n",
    "    plt.title(names[ii])\n",
    "    #kde=sns.kdeplot(data=samples[i], bw_method=0.2, cut=0, label=names)\n",
    "    #kdem2=sns.kdeplot(data=m2, bw_method=0.2, cut=0, label=\"m2 KDE\")\n",
    "    \n",
    "\n",
    "plt.legend()\n",
    "plt.tight_layout()\n",
    "plt.show()\n",
    "plt.close()"
   ]
  },
  {
   "cell_type": "code",
   "execution_count": 61,
   "id": "b42aced6",
   "metadata": {},
   "outputs": [],
   "source": [
    "data=[]\n",
    "for i in range(len(names)):\n",
    "\n",
    "    data.append(zip(samples[i], density[i]))\n",
    "    \n",
    "data = [list(zip(samples[i], density[i])) for i in range(len(names))]    \n",
    "\n",
    "for i, array in enumerate(data):\n",
    "    with open(\"{}(CE=0.2).txt\".format(names[i]), \"w\") as file:\n",
    "        for line in array:\n",
    "            file.write(\",\".join(map(str,line)) + \"\\n\")"
   ]
  },
  {
   "cell_type": "code",
   "execution_count": 67,
   "id": "cd71e555",
   "metadata": {},
   "outputs": [
    {
     "name": "stdout",
     "output_type": "stream",
     "text": [
      "-0.1437351302222193\n"
     ]
    }
   ],
   "source": [
    "print(np.min(samples[1]))"
   ]
  },
  {
   "cell_type": "code",
   "execution_count": null,
   "id": "6046d37a",
   "metadata": {},
   "outputs": [],
   "source": []
  }
 ],
 "metadata": {
  "kernelspec": {
   "display_name": "Python 3 (ipykernel)",
   "language": "python",
   "name": "python3"
  },
  "language_info": {
   "codemirror_mode": {
    "name": "ipython",
    "version": 3
   },
   "file_extension": ".py",
   "mimetype": "text/x-python",
   "name": "python",
   "nbconvert_exporter": "python",
   "pygments_lexer": "ipython3",
   "version": "3.8.10"
  }
 },
 "nbformat": 4,
 "nbformat_minor": 5
}
